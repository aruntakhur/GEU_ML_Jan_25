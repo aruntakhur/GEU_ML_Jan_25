{
  "nbformat": 4,
  "nbformat_minor": 0,
  "metadata": {
    "colab": {
      "provenance": [],
      "authorship_tag": "ABX9TyPSi8G2U00yYWyOntdoPTZX",
      "include_colab_link": true
    },
    "kernelspec": {
      "name": "python3",
      "display_name": "Python 3"
    },
    "language_info": {
      "name": "python"
    }
  },
  "cells": [
    {
      "cell_type": "markdown",
      "metadata": {
        "id": "view-in-github",
        "colab_type": "text"
      },
      "source": [
        "<a href=\"https://colab.research.google.com/github/aruntakhur/GEU_ML_Jan_25/blob/main/Aditi_Proj.ipynb\" target=\"_parent\"><img src=\"https://colab.research.google.com/assets/colab-badge.svg\" alt=\"Open In Colab\"/></a>"
      ]
    },
    {
      "cell_type": "code",
      "execution_count": 3,
      "metadata": {
        "colab": {
          "base_uri": "https://localhost:8080/"
        },
        "id": "3XCFg_mAmJcs",
        "outputId": "2ce34ac8-464e-4c81-8670-6dbae2adea17"
      },
      "outputs": [
        {
          "output_type": "stream",
          "name": "stdout",
          "text": [
            "Requirement already satisfied: groq in /usr/local/lib/python3.11/dist-packages (0.26.0)\n",
            "Requirement already satisfied: anyio<5,>=3.5.0 in /usr/local/lib/python3.11/dist-packages (from groq) (4.9.0)\n",
            "Requirement already satisfied: distro<2,>=1.7.0 in /usr/local/lib/python3.11/dist-packages (from groq) (1.9.0)\n",
            "Requirement already satisfied: httpx<1,>=0.23.0 in /usr/local/lib/python3.11/dist-packages (from groq) (0.28.1)\n",
            "Requirement already satisfied: pydantic<3,>=1.9.0 in /usr/local/lib/python3.11/dist-packages (from groq) (2.11.4)\n",
            "Requirement already satisfied: sniffio in /usr/local/lib/python3.11/dist-packages (from groq) (1.3.1)\n",
            "Requirement already satisfied: typing-extensions<5,>=4.10 in /usr/local/lib/python3.11/dist-packages (from groq) (4.13.2)\n",
            "Requirement already satisfied: idna>=2.8 in /usr/local/lib/python3.11/dist-packages (from anyio<5,>=3.5.0->groq) (3.10)\n",
            "Requirement already satisfied: certifi in /usr/local/lib/python3.11/dist-packages (from httpx<1,>=0.23.0->groq) (2025.4.26)\n",
            "Requirement already satisfied: httpcore==1.* in /usr/local/lib/python3.11/dist-packages (from httpx<1,>=0.23.0->groq) (1.0.9)\n",
            "Requirement already satisfied: h11>=0.16 in /usr/local/lib/python3.11/dist-packages (from httpcore==1.*->httpx<1,>=0.23.0->groq) (0.16.0)\n",
            "Requirement already satisfied: annotated-types>=0.6.0 in /usr/local/lib/python3.11/dist-packages (from pydantic<3,>=1.9.0->groq) (0.7.0)\n",
            "Requirement already satisfied: pydantic-core==2.33.2 in /usr/local/lib/python3.11/dist-packages (from pydantic<3,>=1.9.0->groq) (2.33.2)\n",
            "Requirement already satisfied: typing-inspection>=0.4.0 in /usr/local/lib/python3.11/dist-packages (from pydantic<3,>=1.9.0->groq) (0.4.1)\n"
          ]
        }
      ],
      "source": [
        "!pip install groq"
      ]
    },
    {
      "cell_type": "code",
      "source": [
        "groq_key = '***'\n",
        "from groq import Groq\n",
        "from google.colab import userdata"
      ],
      "metadata": {
        "id": "-eXpEqkjmeya"
      },
      "execution_count": 4,
      "outputs": []
    },
    {
      "cell_type": "code",
      "source": [
        "GROQ_API_KEY = userdata.get('GROQ_API_KEY')\n",
        "client = Groq(api_key=GROQ_API_KEY)"
      ],
      "metadata": {
        "id": "aJHuRwPPmtN4"
      },
      "execution_count": 5,
      "outputs": []
    },
    {
      "cell_type": "code",
      "source": [
        "def generate_rationale(prompt: str) -> str:\n",
        "    response = client.chat.completions.create(\n",
        "        model=\"deepseek-r1-distill-llama-70b\",\n",
        "        messages=[\n",
        "            {\"role\": \"user\", \"content\": prompt}\n",
        "        ],\n",
        "        temperature=0.2,\n",
        "        max_tokens=256,\n",
        "        top_p=1.0\n",
        "    )\n",
        "    return response.choices[0].message.content.strip()\n"
      ],
      "metadata": {
        "id": "Ao7G_zJXmzEl"
      },
      "execution_count": 6,
      "outputs": []
    },
    {
      "cell_type": "code",
      "source": [
        "def format_prompt(question: str, style) -> str:\n",
        "    if style == \"cot\":\n",
        "        return f\"Q: {question}\\nA: Let's think step by step.\"\n",
        "    else:\n",
        "        return f\"Q: {question}\\nA:\""
      ],
      "metadata": {
        "id": "WkBruEFvm7KU"
      },
      "execution_count": 7,
      "outputs": []
    },
    {
      "cell_type": "code",
      "source": [
        "question = \"If a notebook costs 2 dollars and a pen costs 1 dollar, how much do 3 notebooks and 2 pens cost?\"\n",
        "prompt = format_prompt(question, style=\"cot\")\n",
        "\n",
        "response = generate_rationale(prompt)\n",
        "\n",
        "print(\"Prompt:\\n\", prompt)\n",
        "print(\"Groq Output:\\n\", response)"
      ],
      "metadata": {
        "colab": {
          "base_uri": "https://localhost:8080/"
        },
        "id": "yiaY13OEnGNc",
        "outputId": "ebc46c08-dd37-4e2c-dd17-279db7205be5"
      },
      "execution_count": 8,
      "outputs": [
        {
          "output_type": "stream",
          "name": "stdout",
          "text": [
            "Prompt:\n",
            " Q: If a notebook costs 2 dollars and a pen costs 1 dollar, how much do 3 notebooks and 2 pens cost?\n",
            "A: Let's think step by step.\n",
            "Groq Output:\n",
            " <think>\n",
            "First, I need to determine the cost of one notebook and one pen. A notebook costs $2, and a pen costs $1.\n",
            "\n",
            "Next, I'll calculate the total cost for 3 notebooks by multiplying the cost of one notebook by 3. So, 3 notebooks cost 3 × $2 = $6.\n",
            "\n",
            "Then, I'll calculate the total cost for 2 pens by multiplying the cost of one pen by 2. Therefore, 2 pens cost 2 × $1 = $2.\n",
            "\n",
            "Finally, I'll add the cost of the notebooks and pens together to find the total cost. Adding $6 and $2 gives a total of $8.\n",
            "</think>\n",
            "\n",
            "**Solution:**\n",
            "\n",
            "1. **Determine the cost of one notebook and one pen:**\n",
            "   - Notebook: \\$2\n",
            "   - Pen: \\$1\n",
            "\n",
            "2. **Calculate the total cost for 3 notebooks:**\n",
            "   \\[\n",
            "   3 \\text{ notebooks} \\times \\$2/\\text{notebook} = \\$6\n",
            "   \\]\n",
            "\n",
            "3. **Calculate the total cost for 2 pens:**\n",
            "   \\[\n",
            "   2 \\text{ pens} \\times \\$1/\\text{pen} = \\$2\n",
            "   \\]\n",
            "\n",
            "4.\n"
          ]
        }
      ]
    },
    {
      "cell_type": "code",
      "source": [
        "from datasets import load_dataset\n",
        "gsm8k = load_dataset(\"gsm8k\", \"main\", split=\"test[:20]\")\n",
        "\n",
        "def evaluate_groq_model(dataset, style=\"cot\"):\n",
        "    correct = 0\n",
        "    for item in dataset:\n",
        "        question = item[\"question\"]\n",
        "        answer = item[\"answer\"].split('####')[-1].strip()\n",
        "        prompt = format_prompt(question, style)\n",
        "        response = generate_rationale(prompt)\n",
        "        if answer in response:\n",
        "            correct += 1\n",
        "    return correct / len(dataset)\n",
        "\n",
        "accuracy = evaluate_groq_model(gsm8k, style=\"cot\")\n",
        "print(f\"Groq CoT Accuracy: {accuracy:.2%}\")"
      ],
      "metadata": {
        "id": "qYkmIcIcnPiW"
      },
      "execution_count": null,
      "outputs": []
    }
  ]
}