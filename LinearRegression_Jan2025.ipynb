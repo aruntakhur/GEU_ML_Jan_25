{
  "nbformat": 4,
  "nbformat_minor": 0,
  "metadata": {
    "colab": {
      "provenance": [],
      "authorship_tag": "ABX9TyNzvZwDPpog3/MlYBbXw1ii",
      "include_colab_link": true
    },
    "kernelspec": {
      "name": "python3",
      "display_name": "Python 3"
    },
    "language_info": {
      "name": "python"
    }
  },
  "cells": [
    {
      "cell_type": "markdown",
      "metadata": {
        "id": "view-in-github",
        "colab_type": "text"
      },
      "source": [
        "<a href=\"https://colab.research.google.com/github/aruntakhur/GEU_ML_Jan_25/blob/main/LinearRegression_Jan2025.ipynb\" target=\"_parent\"><img src=\"https://colab.research.google.com/assets/colab-badge.svg\" alt=\"Open In Colab\"/></a>"
      ]
    },
    {
      "cell_type": "code",
      "execution_count": 1,
      "metadata": {
        "id": "ywtt5PTY2g-N"
      },
      "outputs": [],
      "source": [
        "import numpy as np\n",
        "import matplotlib.pyplot as plt"
      ]
    },
    {
      "cell_type": "code",
      "source": [
        "data = np.array([[2,22],[4,43],[6,59],[5,50],[1,12]])"
      ],
      "metadata": {
        "id": "FIYUGRN236bP"
      },
      "execution_count": 2,
      "outputs": []
    },
    {
      "cell_type": "code",
      "source": [
        "data.shape"
      ],
      "metadata": {
        "colab": {
          "base_uri": "https://localhost:8080/"
        },
        "id": "9u4WfM393Hxw",
        "outputId": "b2fa1a82-08f7-4b50-f884-5152eb978d40"
      },
      "execution_count": 3,
      "outputs": [
        {
          "output_type": "execute_result",
          "data": {
            "text/plain": [
              "(5, 2)"
            ]
          },
          "metadata": {},
          "execution_count": 3
        }
      ]
    },
    {
      "cell_type": "code",
      "source": [
        "plt.scatter(data[:,0],data[:,1])"
      ],
      "metadata": {
        "colab": {
          "base_uri": "https://localhost:8080/",
          "height": 448
        },
        "id": "NaMQOkmm3O_G",
        "outputId": "45e0bfd5-f87c-4bf5-a350-9c607df20522"
      },
      "execution_count": 4,
      "outputs": [
        {
          "output_type": "execute_result",
          "data": {
            "text/plain": [
              "<matplotlib.collections.PathCollection at 0x7d3272d7e650>"
            ]
          },
          "metadata": {},
          "execution_count": 4
        },
        {
          "output_type": "display_data",
          "data": {
            "text/plain": [
              "<Figure size 640x480 with 1 Axes>"
            ],
            "image/png": "[encoded data removed]"
          },
          "metadata": {}
        }
      ]
    },
    {
      "cell_type": "code",
      "source": [
        "X = np.array([[1,2],[1,4],[1,6],[1,5],[1,1]])\n",
        "Y = np.array([22,43,59,50,12])\n",
        "Y = Y.reshape(5,1)\n",
        "Y.shape"
      ],
      "metadata": {
        "colab": {
          "base_uri": "https://localhost:8080/"
        },
        "id": "qLE2oL_A4YS2",
        "outputId": "ebab6741-88a9-47ef-b1dc-ce6f70386371"
      },
      "execution_count": 6,
      "outputs": [
        {
          "output_type": "execute_result",
          "data": {
            "text/plain": [
              "(5, 1)"
            ]
          },
          "metadata": {},
          "execution_count": 6
        }
      ]
    },
    {
      "cell_type": "code",
      "source": [
        "XTX = np.dot(X.T,X)\n",
        "XTX_inv = np.linalg.inv(XTX)\n",
        "XTY = np.dot(X.T,Y)\n",
        "w = np.dot(XTX_inv,XTY)\n",
        "print(w)"
      ],
      "metadata": {
        "colab": {
          "base_uri": "https://localhost:8080/"
        },
        "id": "1BDwh0AYA6BT",
        "outputId": "0c8fb8ad-0bea-454a-9fc3-5ac0d8ea18a4"
      },
      "execution_count": 7,
      "outputs": [
        {
          "output_type": "stream",
          "name": "stdout",
          "text": [
            "[[3.20930233]\n",
            " [9.44186047]]\n"
          ]
        }
      ]
    },
    {
      "cell_type": "code",
      "source": [
        "#plot the derived model\n",
        "x = np.linspace(-1,10,100)\n",
        "y = w[0] + w[1]*x\n",
        "plt.scatter(data[:,0],data[:,1])\n",
        "plt.plot(x,y)"
      ],
      "metadata": {
        "colab": {
          "base_uri": "https://localhost:8080/",
          "height": 448
        },
        "id": "RE5i3CFPBUvj",
        "outputId": "1869c834-0b1b-4376-ce6d-959276f3538d"
      },
      "execution_count": 8,
      "outputs": [
        {
          "output_type": "execute_result",
          "data": {
            "text/plain": [
              "[<matplotlib.lines.Line2D at 0x7d32717b6210>]"
            ]
          },
          "metadata": {},
          "execution_count": 8
        },
        {
          "output_type": "display_data",
          "data": {
            "text/plain": [
              "<Figure size 640x480 with 1 Axes>"
            ],
            "image/png": "[encoded data removed]"
          },
          "metadata": {}
        }
      ]
    },
    {
      "cell_type": "markdown",
      "source": [
        "#Visualizing Error function for 1 degree polynomial with zero intercept"
      ],
      "metadata": {
        "id": "_ENQgRUCWJh4"
      }
    },
    {
      "cell_type": "markdown",
      "source": [
        "Equation of the line is ​y = mx + c\n",
        "1. Slope of the line is 1 i.e m = 1.\n",
        "2. Intercept is 0 i.e. c = 0"
      ],
      "metadata": {
        "id": "XOxrc94HWUrX"
      }
    },
    {
      "cell_type": "markdown",
      "source": [
        "\n"
      ],
      "metadata": {
        "id": "yBBQxLPeXLZu"
      }
    },
    {
      "cell_type": "code",
      "source": [
        "x = np.linspace(-5,5,10)\n",
        "X = x.reshape(-1,1)\n",
        "y = x # y = m*x + c   where m = 1  and c = 0\n",
        "Y = y.reshape(-1,1)\n",
        "plt.scatter(x,y)"
      ],
      "metadata": {
        "colab": {
          "base_uri": "https://localhost:8080/",
          "height": 448
        },
        "id": "kmR0pQLgWQBW",
        "outputId": "596765e9-7f44-48c3-dbba-940eb99a665e"
      },
      "execution_count": 26,
      "outputs": [
        {
          "output_type": "execute_result",
          "data": {
            "text/plain": [
              "<matplotlib.collections.PathCollection at 0x7d32721d3e90>"
            ]
          },
          "metadata": {},
          "execution_count": 26
        },
        {
          "output_type": "display_data",
          "data": {
            "text/plain": [
              "<Figure size 640x480 with 1 Axes>"
            ],
            "image/png": "[encoded data removed]"
          },
          "metadata": {}
        }
      ]
    },
    {
      "cell_type": "code",
      "source": [
        "#  here w is only one dimenion i.e slope only with no intercept in the model assumption\n",
        "w = np.linspace(-5,7,100)\n",
        "w = w.reshape(1,-1)"
      ],
      "metadata": {
        "id": "zCTfpMI3UjBZ"
      },
      "execution_count": 44,
      "outputs": []
    },
    {
      "cell_type": "markdown",
      "source": [
        "Equation of error function is\n",
        "\n",
        "\n",
        "$(Xw-Y)^T(Xw-Y)$"
      ],
      "metadata": {
        "id": "acbU_Gq1WPas"
      }
    },
    {
      "cell_type": "code",
      "source": [
        "Xw = np.dot(X,w)\n",
        "Xw_Y = Xw - Y\n",
        "total_error = np.dot(Xw_Y.T,Xw_Y)\n",
        "total_error = total_error.diagonal()\n",
        "total_error.shape\n",
        "plt.scatter(w.reshape(-1),total_error)\n"
      ],
      "metadata": {
        "id": "Aa86jB46WGBx",
        "outputId": "5a1080fe-68a2-4e6e-86a4-46cb807d4d18",
        "colab": {
          "base_uri": "https://localhost:8080/",
          "height": 448
        }
      },
      "execution_count": 45,
      "outputs": [
        {
          "output_type": "execute_result",
          "data": {
            "text/plain": [
              "<matplotlib.collections.PathCollection at 0x7d325c6e3f10>"
            ]
          },
          "metadata": {},
          "execution_count": 45
        },
        {
          "output_type": "display_data",
          "data": {
            "text/plain": [
              "<Figure size 640x480 with 1 Axes>"
            ],
            "image/png": "[encoded data removed]"
          },
          "metadata": {}
        }
      ]
    },
    {
      "cell_type": "code",
      "source": [
        "w.reshape(-1)"
      ],
      "metadata": {
        "id": "UnPEgfMOcjmg",
        "outputId": "da57e863-f905-4795-8766-c0fb6e6e155d",
        "colab": {
          "base_uri": "https://localhost:8080/"
        }
      },
      "execution_count": 35,
      "outputs": [
        {
          "output_type": "execute_result",
          "data": {
            "text/plain": [
              "array([-5.        , -3.88888889, -2.77777778, -1.66666667, -0.55555556,\n",
              "        0.55555556,  1.66666667,  2.77777778,  3.88888889,  5.        ])"
            ]
          },
          "metadata": {},
          "execution_count": 35
        }
      ]
    }
  ]
}